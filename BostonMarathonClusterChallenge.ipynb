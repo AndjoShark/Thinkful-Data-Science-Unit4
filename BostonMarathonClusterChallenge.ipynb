{
 "cells": [
  {
   "cell_type": "code",
   "execution_count": 1,
   "metadata": {
    "collapsed": true
   },
   "outputs": [],
   "source": [
    "from sklearn.metrics import silhouette_score\n",
    "import pandas as pd\n",
    "import numpy as np\n",
    "import scipy\n",
    "import matplotlib.pyplot as plt\n",
    "import seaborn as sns\n",
    "from sklearn.cluster import KMeans\n",
    "from sklearn.preprocessing import normalize\n",
    "from sklearn.decomposition import PCA\n",
    "from sklearn.cluster import MiniBatchKMeans\n",
    "from sklearn.cluster import KMeans\n",
    "from sklearn.preprocessing import normalize\n",
    "from sklearn.model_selection import train_test_split\n",
    "from sklearn.decomposition import PCA\n",
    "from sklearn import metrics\n",
    "from sklearn.metrics import pairwise_distances\n",
    "import warnings\n",
    "warnings.filterwarnings(action='once')\n",
    "%matplotlib inline"
   ]
  },
  {
   "cell_type": "code",
   "execution_count": 2,
   "metadata": {},
   "outputs": [
    {
     "data": {
      "text/plain": [
       "25k              0\n",
       "age              0\n",
       "name             0\n",
       "division         0\n",
       "10k              0\n",
       "gender           0\n",
       "half             0\n",
       "official         0\n",
       "bib              0\n",
       "ctz          15308\n",
       "country          0\n",
       "overall          0\n",
       "pace             0\n",
       "state         1445\n",
       "30k              0\n",
       "5k               0\n",
       "genderdiv        0\n",
       "20k              0\n",
       "35k              0\n",
       "city             1\n",
       "40k              0\n",
       "dtype: int64"
      ]
     },
     "execution_count": 2,
     "metadata": {},
     "output_type": "execute_result"
    }
   ],
   "source": [
    "df = pd.read_csv('/Users/joshuarkarnad/Desktop/Data Sets/results.csv')\n",
    "time_columns = ['5k','10k','20k','half','25k','30k','35k','40k']\n",
    "for col in time_columns:\n",
    "    df[col]= df[col].str.replace('-', '')\n",
    "    df[col] = pd.to_numeric(df[col])\n",
    "df = df.dropna(subset=time_columns)\n",
    "df.isnull().sum()"
   ]
  },
  {
   "cell_type": "code",
   "execution_count": 4,
   "metadata": {},
   "outputs": [
    {
     "name": "stderr",
     "output_type": "stream",
     "text": [
      "/Users/joshuarkarnad/anaconda3/lib/python3.6/site-packages/ipykernel_launcher.py:5: SettingWithCopyWarning: \n",
      "A value is trying to be set on a copy of a slice from a DataFrame.\n",
      "Try using .loc[row_indexer,col_indexer] = value instead\n",
      "\n",
      "See the caveats in the documentation: http://pandas.pydata.org/pandas-docs/stable/indexing.html#indexing-view-versus-copy\n",
      "  \"\"\"\n"
     ]
    },
    {
     "data": {
      "text/html": [
       "<div>\n",
       "<style>\n",
       "    .dataframe thead tr:only-child th {\n",
       "        text-align: right;\n",
       "    }\n",
       "\n",
       "    .dataframe thead th {\n",
       "        text-align: left;\n",
       "    }\n",
       "\n",
       "    .dataframe tbody tr th {\n",
       "        vertical-align: top;\n",
       "    }\n",
       "</style>\n",
       "<table border=\"1\" class=\"dataframe\">\n",
       "  <thead>\n",
       "    <tr style=\"text-align: right;\">\n",
       "      <th></th>\n",
       "      <th>5k</th>\n",
       "      <th>10k</th>\n",
       "      <th>20k</th>\n",
       "      <th>half</th>\n",
       "      <th>25k</th>\n",
       "      <th>30k</th>\n",
       "      <th>35k</th>\n",
       "      <th>40k</th>\n",
       "      <th>official</th>\n",
       "      <th>age</th>\n",
       "    </tr>\n",
       "  </thead>\n",
       "  <tbody>\n",
       "    <tr>\n",
       "      <th>0</th>\n",
       "      <td>0.097910</td>\n",
       "      <td>0.200000</td>\n",
       "      <td>0.426843</td>\n",
       "      <td>0.450275</td>\n",
       "      <td>0.548625</td>\n",
       "      <td>0.682838</td>\n",
       "      <td>0.822112</td>\n",
       "      <td>0.941144</td>\n",
       "      <td>1.0</td>\n",
       "      <td>28</td>\n",
       "    </tr>\n",
       "    <tr>\n",
       "      <th>1</th>\n",
       "      <td>0.120000</td>\n",
       "      <td>0.233208</td>\n",
       "      <td>0.464302</td>\n",
       "      <td>0.489811</td>\n",
       "      <td>0.583170</td>\n",
       "      <td>0.701660</td>\n",
       "      <td>0.820981</td>\n",
       "      <td>0.941660</td>\n",
       "      <td>1.0</td>\n",
       "      <td>30</td>\n",
       "    </tr>\n",
       "    <tr>\n",
       "      <th>2</th>\n",
       "      <td>0.122191</td>\n",
       "      <td>0.237018</td>\n",
       "      <td>0.471964</td>\n",
       "      <td>0.497967</td>\n",
       "      <td>0.592391</td>\n",
       "      <td>0.711207</td>\n",
       "      <td>0.833627</td>\n",
       "      <td>0.949452</td>\n",
       "      <td>1.0</td>\n",
       "      <td>23</td>\n",
       "    </tr>\n",
       "    <tr>\n",
       "      <th>3</th>\n",
       "      <td>0.101549</td>\n",
       "      <td>0.211806</td>\n",
       "      <td>0.450978</td>\n",
       "      <td>0.474952</td>\n",
       "      <td>0.571073</td>\n",
       "      <td>0.693769</td>\n",
       "      <td>0.825512</td>\n",
       "      <td>0.943458</td>\n",
       "      <td>1.0</td>\n",
       "      <td>32</td>\n",
       "    </tr>\n",
       "    <tr>\n",
       "      <th>4</th>\n",
       "      <td>0.102270</td>\n",
       "      <td>0.208438</td>\n",
       "      <td>0.441986</td>\n",
       "      <td>0.465146</td>\n",
       "      <td>0.558931</td>\n",
       "      <td>0.686998</td>\n",
       "      <td>0.821830</td>\n",
       "      <td>0.938776</td>\n",
       "      <td>1.0</td>\n",
       "      <td>39</td>\n",
       "    </tr>\n",
       "  </tbody>\n",
       "</table>\n",
       "</div>"
      ],
      "text/plain": [
       "         5k       10k       20k      half       25k       30k       35k  \\\n",
       "0  0.097910  0.200000  0.426843  0.450275  0.548625  0.682838  0.822112   \n",
       "1  0.120000  0.233208  0.464302  0.489811  0.583170  0.701660  0.820981   \n",
       "2  0.122191  0.237018  0.471964  0.497967  0.592391  0.711207  0.833627   \n",
       "3  0.101549  0.211806  0.450978  0.474952  0.571073  0.693769  0.825512   \n",
       "4  0.102270  0.208438  0.441986  0.465146  0.558931  0.686998  0.821830   \n",
       "\n",
       "        40k  official  age  \n",
       "0  0.941144       1.0   28  \n",
       "1  0.941660       1.0   30  \n",
       "2  0.949452       1.0   23  \n",
       "3  0.943458       1.0   32  \n",
       "4  0.938776       1.0   39  "
      ]
     },
     "execution_count": 4,
     "metadata": {},
     "output_type": "execute_result"
    }
   ],
   "source": [
    "time_columns = ['5k','10k','20k','half','25k','30k','35k','40k', 'official']\n",
    "clustering_col = time_columns + ['age']\n",
    "dftimes = df[clustering_col]\n",
    "for col in time_columns:\n",
    "    dftimes[col] = dftimes[col] / dftimes['official']\n",
    "dftimes.head()"
   ]
  },
  {
   "cell_type": "code",
   "execution_count": 5,
   "metadata": {},
   "outputs": [
    {
     "data": {
      "text/plain": [
       "5k          0\n",
       "10k         0\n",
       "20k         0\n",
       "half        0\n",
       "25k         0\n",
       "30k         0\n",
       "35k         0\n",
       "40k         0\n",
       "official    0\n",
       "age         0\n",
       "dtype: int64"
      ]
     },
     "execution_count": 5,
     "metadata": {},
     "output_type": "execute_result"
    }
   ],
   "source": [
    "dftimes.isnull().sum()"
   ]
  },
  {
   "cell_type": "code",
   "execution_count": 6,
   "metadata": {},
   "outputs": [
    {
     "data": {
      "text/plain": [
       "<matplotlib.collections.PathCollection at 0x1a1a1b3470>"
      ]
     },
     "execution_count": 6,
     "metadata": {},
     "output_type": "execute_result"
    },
    {
     "data": {
      "image/png": "[encoded data removed]",
      "text/plain": [
       "<matplotlib.figure.Figure at 0x1a19d4a1d0>"
      ]
     },
     "metadata": {},
     "output_type": "display_data"
    }
   ],
   "source": [
    "X_norm = normalize(dftimes)\n",
    "pca = PCA(n_components=2)\n",
    "X_pca = pca.fit_transform(X_norm)\n",
    "model1 = KMeans(n_clusters=2).fit(X_norm)\n",
    "cluster_assignment_kmeans = model1.predict(X_norm)\n",
    "plt.scatter(X_pca[:,0], X_pca[:,1], c = cluster_assignment_kmeans)"
   ]
  },
  {
   "cell_type": "code",
   "execution_count": 9,
   "metadata": {},
   "outputs": [],
   "source": [
    "kmeanscluster1 = df[cluster_assignment_kmeans == 0]\n",
    "kmeanscluster2 = df[cluster_assignment_kmeans == 1]"
   ]
  },
  {
   "cell_type": "markdown",
   "metadata": {},
   "source": [
    "<h2> KMeans Cluster Data Description </h2>\n",
    "From below the main differences are the mean ages. Cluster 1 has a mean age of 28.8 and cluster 2 has a mean age of 46.6. Also cluster 1 happens to be more female, 53% of cluster 1 is female as opposed to 35% in cluster 2. Cluster 1 has slightly more participants from the USA compared at 89% to cluster 2 at 79%."
   ]
  },
  {
   "cell_type": "code",
   "execution_count": 10,
   "metadata": {
    "scrolled": true
   },
   "outputs": [
    {
     "data": {
      "text/html": [
       "<div>\n",
       "<style>\n",
       "    .dataframe thead tr:only-child th {\n",
       "        text-align: right;\n",
       "    }\n",
       "\n",
       "    .dataframe thead th {\n",
       "        text-align: left;\n",
       "    }\n",
       "\n",
       "    .dataframe tbody tr th {\n",
       "        vertical-align: top;\n",
       "    }\n",
       "</style>\n",
       "<table border=\"1\" class=\"dataframe\">\n",
       "  <thead>\n",
       "    <tr style=\"text-align: right;\">\n",
       "      <th></th>\n",
       "      <th>25k</th>\n",
       "      <th>age</th>\n",
       "      <th>division</th>\n",
       "      <th>10k</th>\n",
       "      <th>half</th>\n",
       "      <th>official</th>\n",
       "      <th>overall</th>\n",
       "      <th>pace</th>\n",
       "      <th>30k</th>\n",
       "      <th>5k</th>\n",
       "      <th>genderdiv</th>\n",
       "      <th>20k</th>\n",
       "      <th>35k</th>\n",
       "      <th>40k</th>\n",
       "    </tr>\n",
       "  </thead>\n",
       "  <tbody>\n",
       "    <tr>\n",
       "      <th>count</th>\n",
       "      <td>4501.000000</td>\n",
       "      <td>4501.000000</td>\n",
       "      <td>4501.000000</td>\n",
       "      <td>4501.000000</td>\n",
       "      <td>4501.000000</td>\n",
       "      <td>4501.000000</td>\n",
       "      <td>4501.000000</td>\n",
       "      <td>4501.000000</td>\n",
       "      <td>4501.000000</td>\n",
       "      <td>4501.000000</td>\n",
       "      <td>4501.000000</td>\n",
       "      <td>4501.000000</td>\n",
       "      <td>4501.000000</td>\n",
       "      <td>4501.000000</td>\n",
       "    </tr>\n",
       "    <tr>\n",
       "      <th>mean</th>\n",
       "      <td>112.361138</td>\n",
       "      <td>28.846034</td>\n",
       "      <td>1579.463675</td>\n",
       "      <td>44.524808</td>\n",
       "      <td>94.398143</td>\n",
       "      <td>197.157405</td>\n",
       "      <td>6167.161520</td>\n",
       "      <td>7.527692</td>\n",
       "      <td>136.334757</td>\n",
       "      <td>22.329080</td>\n",
       "      <td>2463.971562</td>\n",
       "      <td>89.486834</td>\n",
       "      <td>161.193073</td>\n",
       "      <td>186.296108</td>\n",
       "    </tr>\n",
       "    <tr>\n",
       "      <th>std</th>\n",
       "      <td>13.237840</td>\n",
       "      <td>3.890567</td>\n",
       "      <td>1036.956217</td>\n",
       "      <td>5.169233</td>\n",
       "      <td>10.991375</td>\n",
       "      <td>24.531322</td>\n",
       "      <td>4760.168677</td>\n",
       "      <td>0.935743</td>\n",
       "      <td>16.349908</td>\n",
       "      <td>2.604356</td>\n",
       "      <td>2055.452198</td>\n",
       "      <td>10.405498</td>\n",
       "      <td>19.709450</td>\n",
       "      <td>23.194583</td>\n",
       "    </tr>\n",
       "    <tr>\n",
       "      <th>min</th>\n",
       "      <td>48.750000</td>\n",
       "      <td>18.000000</td>\n",
       "      <td>1.000000</td>\n",
       "      <td>18.180000</td>\n",
       "      <td>40.570000</td>\n",
       "      <td>88.320000</td>\n",
       "      <td>1.000000</td>\n",
       "      <td>3.380000</td>\n",
       "      <td>60.100000</td>\n",
       "      <td>8.900000</td>\n",
       "      <td>1.000000</td>\n",
       "      <td>38.550000</td>\n",
       "      <td>72.620000</td>\n",
       "      <td>83.150000</td>\n",
       "    </tr>\n",
       "    <tr>\n",
       "      <th>25%</th>\n",
       "      <td>103.320000</td>\n",
       "      <td>26.000000</td>\n",
       "      <td>689.000000</td>\n",
       "      <td>41.150000</td>\n",
       "      <td>86.950000</td>\n",
       "      <td>179.030000</td>\n",
       "      <td>1894.000000</td>\n",
       "      <td>6.830000</td>\n",
       "      <td>125.020000</td>\n",
       "      <td>20.620000</td>\n",
       "      <td>847.000000</td>\n",
       "      <td>82.470000</td>\n",
       "      <td>147.130000</td>\n",
       "      <td>169.430000</td>\n",
       "    </tr>\n",
       "    <tr>\n",
       "      <th>50%</th>\n",
       "      <td>112.200000</td>\n",
       "      <td>29.000000</td>\n",
       "      <td>1467.000000</td>\n",
       "      <td>44.450000</td>\n",
       "      <td>94.270000</td>\n",
       "      <td>198.120000</td>\n",
       "      <td>5391.000000</td>\n",
       "      <td>7.570000</td>\n",
       "      <td>136.550000</td>\n",
       "      <td>22.330000</td>\n",
       "      <td>1960.000000</td>\n",
       "      <td>89.370000</td>\n",
       "      <td>161.730000</td>\n",
       "      <td>187.180000</td>\n",
       "    </tr>\n",
       "    <tr>\n",
       "      <th>75%</th>\n",
       "      <td>122.480000</td>\n",
       "      <td>32.000000</td>\n",
       "      <td>2393.000000</td>\n",
       "      <td>48.620000</td>\n",
       "      <td>102.920000</td>\n",
       "      <td>214.100000</td>\n",
       "      <td>9573.000000</td>\n",
       "      <td>8.170000</td>\n",
       "      <td>148.780000</td>\n",
       "      <td>24.370000</td>\n",
       "      <td>3581.000000</td>\n",
       "      <td>97.500000</td>\n",
       "      <td>175.520000</td>\n",
       "      <td>202.600000</td>\n",
       "    </tr>\n",
       "    <tr>\n",
       "      <th>max</th>\n",
       "      <td>163.620000</td>\n",
       "      <td>35.000000</td>\n",
       "      <td>3834.000000</td>\n",
       "      <td>66.680000</td>\n",
       "      <td>138.670000</td>\n",
       "      <td>282.200000</td>\n",
       "      <td>17597.000000</td>\n",
       "      <td>10.770000</td>\n",
       "      <td>195.870000</td>\n",
       "      <td>33.220000</td>\n",
       "      <td>10648.000000</td>\n",
       "      <td>131.720000</td>\n",
       "      <td>227.200000</td>\n",
       "      <td>265.830000</td>\n",
       "    </tr>\n",
       "  </tbody>\n",
       "</table>\n",
       "</div>"
      ],
      "text/plain": [
       "               25k          age     division          10k         half  \\\n",
       "count  4501.000000  4501.000000  4501.000000  4501.000000  4501.000000   \n",
       "mean    112.361138    28.846034  1579.463675    44.524808    94.398143   \n",
       "std      13.237840     3.890567  1036.956217     5.169233    10.991375   \n",
       "min      48.750000    18.000000     1.000000    18.180000    40.570000   \n",
       "25%     103.320000    26.000000   689.000000    41.150000    86.950000   \n",
       "50%     112.200000    29.000000  1467.000000    44.450000    94.270000   \n",
       "75%     122.480000    32.000000  2393.000000    48.620000   102.920000   \n",
       "max     163.620000    35.000000  3834.000000    66.680000   138.670000   \n",
       "\n",
       "          official       overall         pace          30k           5k  \\\n",
       "count  4501.000000   4501.000000  4501.000000  4501.000000  4501.000000   \n",
       "mean    197.157405   6167.161520     7.527692   136.334757    22.329080   \n",
       "std      24.531322   4760.168677     0.935743    16.349908     2.604356   \n",
       "min      88.320000      1.000000     3.380000    60.100000     8.900000   \n",
       "25%     179.030000   1894.000000     6.830000   125.020000    20.620000   \n",
       "50%     198.120000   5391.000000     7.570000   136.550000    22.330000   \n",
       "75%     214.100000   9573.000000     8.170000   148.780000    24.370000   \n",
       "max     282.200000  17597.000000    10.770000   195.870000    33.220000   \n",
       "\n",
       "          genderdiv          20k          35k          40k  \n",
       "count   4501.000000  4501.000000  4501.000000  4501.000000  \n",
       "mean    2463.971562    89.486834   161.193073   186.296108  \n",
       "std     2055.452198    10.405498    19.709450    23.194583  \n",
       "min        1.000000    38.550000    72.620000    83.150000  \n",
       "25%      847.000000    82.470000   147.130000   169.430000  \n",
       "50%     1960.000000    89.370000   161.730000   187.180000  \n",
       "75%     3581.000000    97.500000   175.520000   202.600000  \n",
       "max    10648.000000   131.720000   227.200000   265.830000  "
      ]
     },
     "execution_count": 10,
     "metadata": {},
     "output_type": "execute_result"
    }
   ],
   "source": [
    "kmeanscluster1.describe()"
   ]
  },
  {
   "cell_type": "code",
   "execution_count": 11,
   "metadata": {},
   "outputs": [
    {
     "data": {
      "text/html": [
       "<div>\n",
       "<style>\n",
       "    .dataframe thead tr:only-child th {\n",
       "        text-align: right;\n",
       "    }\n",
       "\n",
       "    .dataframe thead th {\n",
       "        text-align: left;\n",
       "    }\n",
       "\n",
       "    .dataframe tbody tr th {\n",
       "        vertical-align: top;\n",
       "    }\n",
       "</style>\n",
       "<table border=\"1\" class=\"dataframe\">\n",
       "  <thead>\n",
       "    <tr style=\"text-align: right;\">\n",
       "      <th></th>\n",
       "      <th>25k</th>\n",
       "      <th>age</th>\n",
       "      <th>division</th>\n",
       "      <th>10k</th>\n",
       "      <th>half</th>\n",
       "      <th>official</th>\n",
       "      <th>overall</th>\n",
       "      <th>pace</th>\n",
       "      <th>30k</th>\n",
       "      <th>5k</th>\n",
       "      <th>genderdiv</th>\n",
       "      <th>20k</th>\n",
       "      <th>35k</th>\n",
       "      <th>40k</th>\n",
       "    </tr>\n",
       "  </thead>\n",
       "  <tbody>\n",
       "    <tr>\n",
       "      <th>count</th>\n",
       "      <td>11553.000000</td>\n",
       "      <td>11553.000000</td>\n",
       "      <td>11553.000000</td>\n",
       "      <td>11553.000000</td>\n",
       "      <td>11553.000000</td>\n",
       "      <td>11553.000000</td>\n",
       "      <td>11553.000000</td>\n",
       "      <td>11553.000000</td>\n",
       "      <td>11553.000000</td>\n",
       "      <td>11553.000000</td>\n",
       "      <td>11553.000000</td>\n",
       "      <td>11553.000000</td>\n",
       "      <td>11553.000000</td>\n",
       "      <td>11553.000000</td>\n",
       "    </tr>\n",
       "    <tr>\n",
       "      <th>mean</th>\n",
       "      <td>120.495767</td>\n",
       "      <td>46.621484</td>\n",
       "      <td>913.209556</td>\n",
       "      <td>47.600113</td>\n",
       "      <td>101.129613</td>\n",
       "      <td>212.445854</td>\n",
       "      <td>9312.055743</td>\n",
       "      <td>8.110907</td>\n",
       "      <td>146.411629</td>\n",
       "      <td>23.850420</td>\n",
       "      <td>5084.934476</td>\n",
       "      <td>95.847041</td>\n",
       "      <td>173.418538</td>\n",
       "      <td>200.566310</td>\n",
       "    </tr>\n",
       "    <tr>\n",
       "      <th>std</th>\n",
       "      <td>11.686751</td>\n",
       "      <td>7.387497</td>\n",
       "      <td>828.412785</td>\n",
       "      <td>4.529745</td>\n",
       "      <td>9.704315</td>\n",
       "      <td>22.004267</td>\n",
       "      <td>4885.720596</td>\n",
       "      <td>0.839410</td>\n",
       "      <td>14.465138</td>\n",
       "      <td>2.273479</td>\n",
       "      <td>2666.569100</td>\n",
       "      <td>9.193420</td>\n",
       "      <td>17.546034</td>\n",
       "      <td>20.688613</td>\n",
       "    </tr>\n",
       "    <tr>\n",
       "      <th>min</th>\n",
       "      <td>48.320000</td>\n",
       "      <td>31.000000</td>\n",
       "      <td>1.000000</td>\n",
       "      <td>18.030000</td>\n",
       "      <td>40.270000</td>\n",
       "      <td>85.530000</td>\n",
       "      <td>1.000000</td>\n",
       "      <td>3.270000</td>\n",
       "      <td>59.450000</td>\n",
       "      <td>8.870000</td>\n",
       "      <td>1.000000</td>\n",
       "      <td>38.230000</td>\n",
       "      <td>71.180000</td>\n",
       "      <td>80.550000</td>\n",
       "    </tr>\n",
       "    <tr>\n",
       "      <th>25%</th>\n",
       "      <td>112.120000</td>\n",
       "      <td>41.000000</td>\n",
       "      <td>301.000000</td>\n",
       "      <td>44.370000</td>\n",
       "      <td>94.180000</td>\n",
       "      <td>197.080000</td>\n",
       "      <td>5147.000000</td>\n",
       "      <td>7.520000</td>\n",
       "      <td>136.130000</td>\n",
       "      <td>22.270000</td>\n",
       "      <td>3032.000000</td>\n",
       "      <td>89.270000</td>\n",
       "      <td>160.970000</td>\n",
       "      <td>185.920000</td>\n",
       "    </tr>\n",
       "    <tr>\n",
       "      <th>50%</th>\n",
       "      <td>121.270000</td>\n",
       "      <td>46.000000</td>\n",
       "      <td>695.000000</td>\n",
       "      <td>47.950000</td>\n",
       "      <td>101.770000</td>\n",
       "      <td>213.520000</td>\n",
       "      <td>9409.000000</td>\n",
       "      <td>8.150000</td>\n",
       "      <td>147.280000</td>\n",
       "      <td>24.000000</td>\n",
       "      <td>5021.000000</td>\n",
       "      <td>96.450000</td>\n",
       "      <td>174.300000</td>\n",
       "      <td>201.500000</td>\n",
       "    </tr>\n",
       "    <tr>\n",
       "      <th>75%</th>\n",
       "      <td>129.150000</td>\n",
       "      <td>51.000000</td>\n",
       "      <td>1232.000000</td>\n",
       "      <td>50.880000</td>\n",
       "      <td>108.320000</td>\n",
       "      <td>228.630000</td>\n",
       "      <td>13499.000000</td>\n",
       "      <td>8.730000</td>\n",
       "      <td>157.130000</td>\n",
       "      <td>25.480000</td>\n",
       "      <td>6844.000000</td>\n",
       "      <td>102.630000</td>\n",
       "      <td>186.330000</td>\n",
       "      <td>215.770000</td>\n",
       "    </tr>\n",
       "    <tr>\n",
       "      <th>max</th>\n",
       "      <td>158.600000</td>\n",
       "      <td>80.000000</td>\n",
       "      <td>3822.000000</td>\n",
       "      <td>62.580000</td>\n",
       "      <td>136.200000</td>\n",
       "      <td>284.230000</td>\n",
       "      <td>17598.000000</td>\n",
       "      <td>10.850000</td>\n",
       "      <td>191.000000</td>\n",
       "      <td>31.900000</td>\n",
       "      <td>10647.000000</td>\n",
       "      <td>130.350000</td>\n",
       "      <td>229.500000</td>\n",
       "      <td>268.400000</td>\n",
       "    </tr>\n",
       "  </tbody>\n",
       "</table>\n",
       "</div>"
      ],
      "text/plain": [
       "                25k           age      division           10k          half  \\\n",
       "count  11553.000000  11553.000000  11553.000000  11553.000000  11553.000000   \n",
       "mean     120.495767     46.621484    913.209556     47.600113    101.129613   \n",
       "std       11.686751      7.387497    828.412785      4.529745      9.704315   \n",
       "min       48.320000     31.000000      1.000000     18.030000     40.270000   \n",
       "25%      112.120000     41.000000    301.000000     44.370000     94.180000   \n",
       "50%      121.270000     46.000000    695.000000     47.950000    101.770000   \n",
       "75%      129.150000     51.000000   1232.000000     50.880000    108.320000   \n",
       "max      158.600000     80.000000   3822.000000     62.580000    136.200000   \n",
       "\n",
       "           official       overall          pace           30k            5k  \\\n",
       "count  11553.000000  11553.000000  11553.000000  11553.000000  11553.000000   \n",
       "mean     212.445854   9312.055743      8.110907    146.411629     23.850420   \n",
       "std       22.004267   4885.720596      0.839410     14.465138      2.273479   \n",
       "min       85.530000      1.000000      3.270000     59.450000      8.870000   \n",
       "25%      197.080000   5147.000000      7.520000    136.130000     22.270000   \n",
       "50%      213.520000   9409.000000      8.150000    147.280000     24.000000   \n",
       "75%      228.630000  13499.000000      8.730000    157.130000     25.480000   \n",
       "max      284.230000  17598.000000     10.850000    191.000000     31.900000   \n",
       "\n",
       "          genderdiv           20k           35k           40k  \n",
       "count  11553.000000  11553.000000  11553.000000  11553.000000  \n",
       "mean    5084.934476     95.847041    173.418538    200.566310  \n",
       "std     2666.569100      9.193420     17.546034     20.688613  \n",
       "min        1.000000     38.230000     71.180000     80.550000  \n",
       "25%     3032.000000     89.270000    160.970000    185.920000  \n",
       "50%     5021.000000     96.450000    174.300000    201.500000  \n",
       "75%     6844.000000    102.630000    186.330000    215.770000  \n",
       "max    10647.000000    130.350000    229.500000    268.400000  "
      ]
     },
     "execution_count": 11,
     "metadata": {},
     "output_type": "execute_result"
    }
   ],
   "source": [
    "kmeanscluster2.describe()"
   ]
  },
  {
   "cell_type": "code",
   "execution_count": 25,
   "metadata": {},
   "outputs": [
    {
     "data": {
      "text/plain": [
       "F    0.525883\n",
       "M    0.474117\n",
       "Name: gender, dtype: float64"
      ]
     },
     "execution_count": 25,
     "metadata": {},
     "output_type": "execute_result"
    }
   ],
   "source": [
    "kmeanscluster1.gender.value_counts(1)"
   ]
  },
  {
   "cell_type": "code",
   "execution_count": 24,
   "metadata": {},
   "outputs": [
    {
     "data": {
      "text/plain": [
       "M    0.646932\n",
       "F    0.353068\n",
       "Name: gender, dtype: float64"
      ]
     },
     "execution_count": 24,
     "metadata": {},
     "output_type": "execute_result"
    }
   ],
   "source": [
    "kmeanscluster2.gender.value_counts(1)"
   ]
  },
  {
   "cell_type": "code",
   "execution_count": 28,
   "metadata": {},
   "outputs": [
    {
     "data": {
      "text/plain": [
       "USA    0.889802\n",
       "CAN    0.054877\n",
       "GBR    0.009331\n",
       "MEX    0.004221\n",
       "AUS    0.003999\n",
       "Name: country, dtype: float64"
      ]
     },
     "execution_count": 28,
     "metadata": {},
     "output_type": "execute_result"
    }
   ],
   "source": [
    "kmeanscluster1.country.value_counts(1)[0:5]"
   ]
  },
  {
   "cell_type": "code",
   "execution_count": 29,
   "metadata": {},
   "outputs": [
    {
     "data": {
      "text/plain": [
       "USA    0.785770\n",
       "CAN    0.110621\n",
       "GBR    0.011772\n",
       "JPN    0.008223\n",
       "MEX    0.007444\n",
       "Name: country, dtype: float64"
      ]
     },
     "execution_count": 29,
     "metadata": {},
     "output_type": "execute_result"
    }
   ],
   "source": [
    "kmeanscluster2.country.value_counts(1)[0:5]"
   ]
  },
  {
   "cell_type": "code",
   "execution_count": 26,
   "metadata": {},
   "outputs": [
    {
     "data": {
      "text/plain": [
       "Chicago       0.032659\n",
       "New York      0.031993\n",
       "Washington    0.017329\n",
       "Boston        0.015996\n",
       "Cambridge     0.013108\n",
       "Name: city, dtype: float64"
      ]
     },
     "execution_count": 26,
     "metadata": {},
     "output_type": "execute_result"
    }
   ],
   "source": [
    "kmeanscluster1.city.value_counts(1)[0:5]"
   ]
  },
  {
   "cell_type": "code",
   "execution_count": 27,
   "metadata": {},
   "outputs": [
    {
     "data": {
      "text/plain": [
       "New York    0.014889\n",
       "Chicago     0.010648\n",
       "Toronto     0.010215\n",
       "Austin      0.008310\n",
       "Portland    0.006492\n",
       "Name: city, dtype: float64"
      ]
     },
     "execution_count": 27,
     "metadata": {},
     "output_type": "execute_result"
    }
   ],
   "source": [
    "kmeanscluster2.city.value_counts(1)[0:5]"
   ]
  },
  {
   "cell_type": "markdown",
   "metadata": {},
   "source": [
    "<h2> Mean Shift </h2>\n",
    "Only got 1 cluster after MeanShift clustering"
   ]
  },
  {
   "cell_type": "code",
   "execution_count": 36,
   "metadata": {},
   "outputs": [],
   "source": [
    "from sklearn.cluster import MeanShift, estimate_bandwidth\n",
    "bandwidth = estimate_bandwidth(X_norm, quantile=0.2, n_samples=500)\n",
    "ms = MeanShift(bandwidth=bandwidth, bin_seeding=True)\n",
    "ms.fit(X_norm)\n",
    "cluster_assignment_ms = ms.labels_"
   ]
  },
  {
   "cell_type": "code",
   "execution_count": 39,
   "metadata": {},
   "outputs": [
    {
     "data": {
      "text/plain": [
       "<matplotlib.collections.PathCollection at 0x1a1a2a6940>"
      ]
     },
     "execution_count": 39,
     "metadata": {},
     "output_type": "execute_result"
    },
    {
     "data": {
      "image/png": "[encoded data removed]",
      "text/plain": [
       "<matplotlib.figure.Figure at 0x1a1a164da0>"
      ]
     },
     "metadata": {},
     "output_type": "display_data"
    }
   ],
   "source": [
    "dftimesclusterms = df[cluster_assignment_ms == 0]\n",
    "dftimesclusterms2 = df[cluster_assignment_ms == 1]\n",
    "plt.scatter(X_pca[:,0], X_pca[:,1], c = cluster_assignment_ms)"
   ]
  },
  {
   "cell_type": "markdown",
   "metadata": {},
   "source": [
    "<h2> Spectral Clustering </h2>\n",
    "Similar to KMeans clustering.  The age difference were about the same.  The cluster sizes were about the same."
   ]
  },
  {
   "cell_type": "code",
   "execution_count": 41,
   "metadata": {},
   "outputs": [
    {
     "data": {
      "text/plain": [
       "SpectralClustering(affinity='rbf', assign_labels='kmeans', coef0=1, degree=3,\n",
       "          eigen_solver=None, eigen_tol=0.0, gamma=1.0, kernel_params=None,\n",
       "          n_clusters=2, n_init=10, n_jobs=1, n_neighbors=10,\n",
       "          random_state=None)"
      ]
     },
     "execution_count": 41,
     "metadata": {},
     "output_type": "execute_result"
    }
   ],
   "source": [
    "from sklearn.cluster import SpectralClustering\n",
    "sc = SpectralClustering(n_clusters=2)\n",
    "sc.fit(X_norm)"
   ]
  },
  {
   "cell_type": "code",
   "execution_count": 44,
   "metadata": {},
   "outputs": [
    {
     "data": {
      "image/png": "[encoded data removed]",
      "text/plain": [
       "<matplotlib.figure.Figure at 0x1a1a14b2b0>"
      ]
     },
     "metadata": {},
     "output_type": "display_data"
    }
   ],
   "source": [
    "predict=sc.fit_predict(X_norm)\n",
    "sccluster1 = df[predict == 0]\n",
    "sccluster2 = df[predict == 1]\n",
    "plt.scatter(X_pca[:, 0], X_pca[:, 1], c=predict)\n",
    "plt.show()"
   ]
  },
  {
   "cell_type": "code",
   "execution_count": 45,
   "metadata": {},
   "outputs": [
    {
     "data": {
      "text/html": [
       "<div>\n",
       "<style>\n",
       "    .dataframe thead tr:only-child th {\n",
       "        text-align: right;\n",
       "    }\n",
       "\n",
       "    .dataframe thead th {\n",
       "        text-align: left;\n",
       "    }\n",
       "\n",
       "    .dataframe tbody tr th {\n",
       "        vertical-align: top;\n",
       "    }\n",
       "</style>\n",
       "<table border=\"1\" class=\"dataframe\">\n",
       "  <thead>\n",
       "    <tr style=\"text-align: right;\">\n",
       "      <th></th>\n",
       "      <th>25k</th>\n",
       "      <th>age</th>\n",
       "      <th>division</th>\n",
       "      <th>10k</th>\n",
       "      <th>half</th>\n",
       "      <th>official</th>\n",
       "      <th>overall</th>\n",
       "      <th>pace</th>\n",
       "      <th>30k</th>\n",
       "      <th>5k</th>\n",
       "      <th>genderdiv</th>\n",
       "      <th>20k</th>\n",
       "      <th>35k</th>\n",
       "      <th>40k</th>\n",
       "    </tr>\n",
       "  </thead>\n",
       "  <tbody>\n",
       "    <tr>\n",
       "      <th>count</th>\n",
       "      <td>11519.000000</td>\n",
       "      <td>11519.000000</td>\n",
       "      <td>11519.000000</td>\n",
       "      <td>11519.000000</td>\n",
       "      <td>11519.000000</td>\n",
       "      <td>11519.000000</td>\n",
       "      <td>11519.000000</td>\n",
       "      <td>11519.000000</td>\n",
       "      <td>11519.000000</td>\n",
       "      <td>11519.000000</td>\n",
       "      <td>11519.000000</td>\n",
       "      <td>11519.000000</td>\n",
       "      <td>11519.000000</td>\n",
       "      <td>11519.000000</td>\n",
       "    </tr>\n",
       "    <tr>\n",
       "      <th>mean</th>\n",
       "      <td>120.506972</td>\n",
       "      <td>46.656394</td>\n",
       "      <td>909.471569</td>\n",
       "      <td>47.603446</td>\n",
       "      <td>101.138291</td>\n",
       "      <td>212.462235</td>\n",
       "      <td>9316.420870</td>\n",
       "      <td>8.111534</td>\n",
       "      <td>146.426145</td>\n",
       "      <td>23.851978</td>\n",
       "      <td>5089.505252</td>\n",
       "      <td>95.855136</td>\n",
       "      <td>173.434010</td>\n",
       "      <td>200.582478</td>\n",
       "    </tr>\n",
       "    <tr>\n",
       "      <th>std</th>\n",
       "      <td>11.690517</td>\n",
       "      <td>7.370247</td>\n",
       "      <td>825.538584</td>\n",
       "      <td>4.531123</td>\n",
       "      <td>9.707582</td>\n",
       "      <td>22.011712</td>\n",
       "      <td>4887.361729</td>\n",
       "      <td>0.839691</td>\n",
       "      <td>14.470124</td>\n",
       "      <td>2.274162</td>\n",
       "      <td>2667.402087</td>\n",
       "      <td>9.196538</td>\n",
       "      <td>17.552929</td>\n",
       "      <td>20.696589</td>\n",
       "    </tr>\n",
       "    <tr>\n",
       "      <th>min</th>\n",
       "      <td>48.320000</td>\n",
       "      <td>31.000000</td>\n",
       "      <td>1.000000</td>\n",
       "      <td>18.030000</td>\n",
       "      <td>40.270000</td>\n",
       "      <td>85.530000</td>\n",
       "      <td>1.000000</td>\n",
       "      <td>3.270000</td>\n",
       "      <td>59.450000</td>\n",
       "      <td>8.870000</td>\n",
       "      <td>1.000000</td>\n",
       "      <td>38.230000</td>\n",
       "      <td>71.180000</td>\n",
       "      <td>80.550000</td>\n",
       "    </tr>\n",
       "    <tr>\n",
       "      <th>25%</th>\n",
       "      <td>112.120000</td>\n",
       "      <td>41.000000</td>\n",
       "      <td>300.000000</td>\n",
       "      <td>44.370000</td>\n",
       "      <td>94.180000</td>\n",
       "      <td>197.080000</td>\n",
       "      <td>5147.500000</td>\n",
       "      <td>7.520000</td>\n",
       "      <td>136.130000</td>\n",
       "      <td>22.270000</td>\n",
       "      <td>3037.000000</td>\n",
       "      <td>89.275000</td>\n",
       "      <td>160.990000</td>\n",
       "      <td>185.925000</td>\n",
       "    </tr>\n",
       "    <tr>\n",
       "      <th>50%</th>\n",
       "      <td>121.270000</td>\n",
       "      <td>46.000000</td>\n",
       "      <td>692.000000</td>\n",
       "      <td>47.970000</td>\n",
       "      <td>101.780000</td>\n",
       "      <td>213.530000</td>\n",
       "      <td>9415.000000</td>\n",
       "      <td>8.150000</td>\n",
       "      <td>147.280000</td>\n",
       "      <td>24.000000</td>\n",
       "      <td>5027.000000</td>\n",
       "      <td>96.470000</td>\n",
       "      <td>174.320000</td>\n",
       "      <td>201.520000</td>\n",
       "    </tr>\n",
       "    <tr>\n",
       "      <th>75%</th>\n",
       "      <td>129.170000</td>\n",
       "      <td>51.000000</td>\n",
       "      <td>1226.000000</td>\n",
       "      <td>50.900000</td>\n",
       "      <td>108.330000</td>\n",
       "      <td>228.675000</td>\n",
       "      <td>13506.500000</td>\n",
       "      <td>8.730000</td>\n",
       "      <td>157.150000</td>\n",
       "      <td>25.480000</td>\n",
       "      <td>6848.500000</td>\n",
       "      <td>102.650000</td>\n",
       "      <td>186.350000</td>\n",
       "      <td>215.800000</td>\n",
       "    </tr>\n",
       "    <tr>\n",
       "      <th>max</th>\n",
       "      <td>158.600000</td>\n",
       "      <td>80.000000</td>\n",
       "      <td>3822.000000</td>\n",
       "      <td>62.580000</td>\n",
       "      <td>136.200000</td>\n",
       "      <td>284.230000</td>\n",
       "      <td>17598.000000</td>\n",
       "      <td>10.850000</td>\n",
       "      <td>191.000000</td>\n",
       "      <td>31.900000</td>\n",
       "      <td>10647.000000</td>\n",
       "      <td>130.350000</td>\n",
       "      <td>229.500000</td>\n",
       "      <td>268.400000</td>\n",
       "    </tr>\n",
       "  </tbody>\n",
       "</table>\n",
       "</div>"
      ],
      "text/plain": [
       "                25k           age      division           10k          half  \\\n",
       "count  11519.000000  11519.000000  11519.000000  11519.000000  11519.000000   \n",
       "mean     120.506972     46.656394    909.471569     47.603446    101.138291   \n",
       "std       11.690517      7.370247    825.538584      4.531123      9.707582   \n",
       "min       48.320000     31.000000      1.000000     18.030000     40.270000   \n",
       "25%      112.120000     41.000000    300.000000     44.370000     94.180000   \n",
       "50%      121.270000     46.000000    692.000000     47.970000    101.780000   \n",
       "75%      129.170000     51.000000   1226.000000     50.900000    108.330000   \n",
       "max      158.600000     80.000000   3822.000000     62.580000    136.200000   \n",
       "\n",
       "           official       overall          pace           30k            5k  \\\n",
       "count  11519.000000  11519.000000  11519.000000  11519.000000  11519.000000   \n",
       "mean     212.462235   9316.420870      8.111534    146.426145     23.851978   \n",
       "std       22.011712   4887.361729      0.839691     14.470124      2.274162   \n",
       "min       85.530000      1.000000      3.270000     59.450000      8.870000   \n",
       "25%      197.080000   5147.500000      7.520000    136.130000     22.270000   \n",
       "50%      213.530000   9415.000000      8.150000    147.280000     24.000000   \n",
       "75%      228.675000  13506.500000      8.730000    157.150000     25.480000   \n",
       "max      284.230000  17598.000000     10.850000    191.000000     31.900000   \n",
       "\n",
       "          genderdiv           20k           35k           40k  \n",
       "count  11519.000000  11519.000000  11519.000000  11519.000000  \n",
       "mean    5089.505252     95.855136    173.434010    200.582478  \n",
       "std     2667.402087      9.196538     17.552929     20.696589  \n",
       "min        1.000000     38.230000     71.180000     80.550000  \n",
       "25%     3037.000000     89.275000    160.990000    185.925000  \n",
       "50%     5027.000000     96.470000    174.320000    201.520000  \n",
       "75%     6848.500000    102.650000    186.350000    215.800000  \n",
       "max    10647.000000    130.350000    229.500000    268.400000  "
      ]
     },
     "execution_count": 45,
     "metadata": {},
     "output_type": "execute_result"
    }
   ],
   "source": [
    "sccluster1.describe()"
   ]
  },
  {
   "cell_type": "code",
   "execution_count": 46,
   "metadata": {},
   "outputs": [
    {
     "data": {
      "text/html": [
       "<div>\n",
       "<style>\n",
       "    .dataframe thead tr:only-child th {\n",
       "        text-align: right;\n",
       "    }\n",
       "\n",
       "    .dataframe thead th {\n",
       "        text-align: left;\n",
       "    }\n",
       "\n",
       "    .dataframe tbody tr th {\n",
       "        vertical-align: top;\n",
       "    }\n",
       "</style>\n",
       "<table border=\"1\" class=\"dataframe\">\n",
       "  <thead>\n",
       "    <tr style=\"text-align: right;\">\n",
       "      <th></th>\n",
       "      <th>25k</th>\n",
       "      <th>age</th>\n",
       "      <th>division</th>\n",
       "      <th>10k</th>\n",
       "      <th>half</th>\n",
       "      <th>official</th>\n",
       "      <th>overall</th>\n",
       "      <th>pace</th>\n",
       "      <th>30k</th>\n",
       "      <th>5k</th>\n",
       "      <th>genderdiv</th>\n",
       "      <th>20k</th>\n",
       "      <th>35k</th>\n",
       "      <th>40k</th>\n",
       "    </tr>\n",
       "  </thead>\n",
       "  <tbody>\n",
       "    <tr>\n",
       "      <th>count</th>\n",
       "      <td>4535.000000</td>\n",
       "      <td>4535.000000</td>\n",
       "      <td>4535.000000</td>\n",
       "      <td>4535.000000</td>\n",
       "      <td>4535.000000</td>\n",
       "      <td>4535.000000</td>\n",
       "      <td>4535.000000</td>\n",
       "      <td>4535.000000</td>\n",
       "      <td>4535.000000</td>\n",
       "      <td>4535.000000</td>\n",
       "      <td>4535.000000</td>\n",
       "      <td>4535.000000</td>\n",
       "      <td>4535.000000</td>\n",
       "      <td>4535.000000</td>\n",
       "    </tr>\n",
       "    <tr>\n",
       "      <th>mean</th>\n",
       "      <td>112.393665</td>\n",
       "      <td>28.890628</td>\n",
       "      <td>1583.963175</td>\n",
       "      <td>44.539398</td>\n",
       "      <td>94.426569</td>\n",
       "      <td>197.230417</td>\n",
       "      <td>6179.652040</td>\n",
       "      <td>7.530472</td>\n",
       "      <td>136.373433</td>\n",
       "      <td>22.336527</td>\n",
       "      <td>2472.011687</td>\n",
       "      <td>89.513956</td>\n",
       "      <td>161.245431</td>\n",
       "      <td>186.362029</td>\n",
       "    </tr>\n",
       "    <tr>\n",
       "      <th>std</th>\n",
       "      <td>13.219628</td>\n",
       "      <td>3.910268</td>\n",
       "      <td>1036.849062</td>\n",
       "      <td>5.163462</td>\n",
       "      <td>10.976861</td>\n",
       "      <td>24.506033</td>\n",
       "      <td>4757.284057</td>\n",
       "      <td>0.934782</td>\n",
       "      <td>16.325857</td>\n",
       "      <td>2.601523</td>\n",
       "      <td>2055.665398</td>\n",
       "      <td>10.391893</td>\n",
       "      <td>19.682470</td>\n",
       "      <td>23.166252</td>\n",
       "    </tr>\n",
       "    <tr>\n",
       "      <th>min</th>\n",
       "      <td>48.750000</td>\n",
       "      <td>18.000000</td>\n",
       "      <td>1.000000</td>\n",
       "      <td>18.180000</td>\n",
       "      <td>40.570000</td>\n",
       "      <td>88.320000</td>\n",
       "      <td>1.000000</td>\n",
       "      <td>3.380000</td>\n",
       "      <td>60.100000</td>\n",
       "      <td>8.900000</td>\n",
       "      <td>1.000000</td>\n",
       "      <td>38.550000</td>\n",
       "      <td>72.620000</td>\n",
       "      <td>83.150000</td>\n",
       "    </tr>\n",
       "    <tr>\n",
       "      <th>25%</th>\n",
       "      <td>103.330000</td>\n",
       "      <td>26.000000</td>\n",
       "      <td>693.500000</td>\n",
       "      <td>41.180000</td>\n",
       "      <td>86.970000</td>\n",
       "      <td>179.110000</td>\n",
       "      <td>1914.500000</td>\n",
       "      <td>6.830000</td>\n",
       "      <td>125.025000</td>\n",
       "      <td>20.630000</td>\n",
       "      <td>855.500000</td>\n",
       "      <td>82.500000</td>\n",
       "      <td>147.160000</td>\n",
       "      <td>169.440000</td>\n",
       "    </tr>\n",
       "    <tr>\n",
       "      <th>50%</th>\n",
       "      <td>112.270000</td>\n",
       "      <td>29.000000</td>\n",
       "      <td>1475.000000</td>\n",
       "      <td>44.500000</td>\n",
       "      <td>94.350000</td>\n",
       "      <td>198.270000</td>\n",
       "      <td>5422.000000</td>\n",
       "      <td>7.570000</td>\n",
       "      <td>136.630000</td>\n",
       "      <td>22.350000</td>\n",
       "      <td>1968.000000</td>\n",
       "      <td>89.420000</td>\n",
       "      <td>161.850000</td>\n",
       "      <td>187.280000</td>\n",
       "    </tr>\n",
       "    <tr>\n",
       "      <th>75%</th>\n",
       "      <td>122.500000</td>\n",
       "      <td>32.000000</td>\n",
       "      <td>2398.500000</td>\n",
       "      <td>48.620000</td>\n",
       "      <td>102.950000</td>\n",
       "      <td>214.140000</td>\n",
       "      <td>9590.500000</td>\n",
       "      <td>8.180000</td>\n",
       "      <td>148.780000</td>\n",
       "      <td>24.370000</td>\n",
       "      <td>3596.000000</td>\n",
       "      <td>97.530000</td>\n",
       "      <td>175.550000</td>\n",
       "      <td>202.690000</td>\n",
       "    </tr>\n",
       "    <tr>\n",
       "      <th>max</th>\n",
       "      <td>163.620000</td>\n",
       "      <td>35.000000</td>\n",
       "      <td>3834.000000</td>\n",
       "      <td>66.680000</td>\n",
       "      <td>138.670000</td>\n",
       "      <td>282.200000</td>\n",
       "      <td>17597.000000</td>\n",
       "      <td>10.770000</td>\n",
       "      <td>195.870000</td>\n",
       "      <td>33.220000</td>\n",
       "      <td>10648.000000</td>\n",
       "      <td>131.720000</td>\n",
       "      <td>227.200000</td>\n",
       "      <td>265.830000</td>\n",
       "    </tr>\n",
       "  </tbody>\n",
       "</table>\n",
       "</div>"
      ],
      "text/plain": [
       "               25k          age     division          10k         half  \\\n",
       "count  4535.000000  4535.000000  4535.000000  4535.000000  4535.000000   \n",
       "mean    112.393665    28.890628  1583.963175    44.539398    94.426569   \n",
       "std      13.219628     3.910268  1036.849062     5.163462    10.976861   \n",
       "min      48.750000    18.000000     1.000000    18.180000    40.570000   \n",
       "25%     103.330000    26.000000   693.500000    41.180000    86.970000   \n",
       "50%     112.270000    29.000000  1475.000000    44.500000    94.350000   \n",
       "75%     122.500000    32.000000  2398.500000    48.620000   102.950000   \n",
       "max     163.620000    35.000000  3834.000000    66.680000   138.670000   \n",
       "\n",
       "          official       overall         pace          30k           5k  \\\n",
       "count  4535.000000   4535.000000  4535.000000  4535.000000  4535.000000   \n",
       "mean    197.230417   6179.652040     7.530472   136.373433    22.336527   \n",
       "std      24.506033   4757.284057     0.934782    16.325857     2.601523   \n",
       "min      88.320000      1.000000     3.380000    60.100000     8.900000   \n",
       "25%     179.110000   1914.500000     6.830000   125.025000    20.630000   \n",
       "50%     198.270000   5422.000000     7.570000   136.630000    22.350000   \n",
       "75%     214.140000   9590.500000     8.180000   148.780000    24.370000   \n",
       "max     282.200000  17597.000000    10.770000   195.870000    33.220000   \n",
       "\n",
       "          genderdiv          20k          35k          40k  \n",
       "count   4535.000000  4535.000000  4535.000000  4535.000000  \n",
       "mean    2472.011687    89.513956   161.245431   186.362029  \n",
       "std     2055.665398    10.391893    19.682470    23.166252  \n",
       "min        1.000000    38.550000    72.620000    83.150000  \n",
       "25%      855.500000    82.500000   147.160000   169.440000  \n",
       "50%     1968.000000    89.420000   161.850000   187.280000  \n",
       "75%     3596.000000    97.530000   175.550000   202.690000  \n",
       "max    10648.000000   131.720000   227.200000   265.830000  "
      ]
     },
     "execution_count": 46,
     "metadata": {},
     "output_type": "execute_result"
    }
   ],
   "source": [
    "sccluster2.describe()"
   ]
  },
  {
   "cell_type": "code",
   "execution_count": 47,
   "metadata": {},
   "outputs": [
    {
     "data": {
      "text/plain": [
       "M    0.647452\n",
       "F    0.352548\n",
       "Name: gender, dtype: float64"
      ]
     },
     "execution_count": 47,
     "metadata": {},
     "output_type": "execute_result"
    }
   ],
   "source": [
    "sccluster1.gender.value_counts(1)"
   ]
  },
  {
   "cell_type": "code",
   "execution_count": 48,
   "metadata": {},
   "outputs": [
    {
     "data": {
      "text/plain": [
       "F    0.52591\n",
       "M    0.47409\n",
       "Name: gender, dtype: float64"
      ]
     },
     "execution_count": 48,
     "metadata": {},
     "output_type": "execute_result"
    }
   ],
   "source": [
    "sccluster2.gender.value_counts(1)"
   ]
  },
  {
   "cell_type": "code",
   "execution_count": 50,
   "metadata": {},
   "outputs": [
    {
     "data": {
      "text/plain": [
       "USA    0.785572\n",
       "CAN    0.110687\n",
       "GBR    0.011720\n",
       "JPN    0.008247\n",
       "MEX    0.007466\n",
       "Name: country, dtype: float64"
      ]
     },
     "execution_count": 50,
     "metadata": {},
     "output_type": "execute_result"
    }
   ],
   "source": [
    "sccluster1.country.value_counts(1)[0:5]"
   ]
  },
  {
   "cell_type": "code",
   "execution_count": 51,
   "metadata": {},
   "outputs": [
    {
     "data": {
      "text/plain": [
       "USA    0.889526\n",
       "CAN    0.055127\n",
       "GBR    0.009482\n",
       "MEX    0.004190\n",
       "AUS    0.003969\n",
       "Name: country, dtype: float64"
      ]
     },
     "execution_count": 51,
     "metadata": {},
     "output_type": "execute_result"
    }
   ],
   "source": [
    "sccluster2.country.value_counts(1)[0:5]"
   ]
  },
  {
   "cell_type": "markdown",
   "metadata": {},
   "source": [
    "<h2> Affinity Propogation </h2>"
   ]
  },
  {
   "cell_type": "code",
   "execution_count": 52,
   "metadata": {},
   "outputs": [
    {
     "name": "stdout",
     "output_type": "stream",
     "text": [
      "Done\n",
      "Estimated number of clusters: 9212\n"
     ]
    }
   ],
   "source": [
    "from sklearn.cluster import AffinityPropagation\n",
    "from sklearn import metrics\n",
    "\n",
    "# Declare the model and fit it in one statement.\n",
    "# Note that you can provide arguments to the model, but we didn't.\n",
    "af = AffinityPropagation().fit(X_norm)\n",
    "print('Done')\n",
    "\n",
    "# Pull the number of clusters and cluster assignments for each data point.\n",
    "cluster_centers_indices = af.cluster_centers_indices_\n",
    "n_clusters_ = len(cluster_centers_indices)\n",
    "labels = af.labels_\n",
    "\n",
    "print('Estimated number of clusters: {}'.format(n_clusters_))\n"
   ]
  },
  {
   "cell_type": "code",
   "execution_count": 54,
   "metadata": {},
   "outputs": [
    {
     "data": {
      "image/png": "[encoded data removed]",
      "text/plain": [
       "<matplotlib.figure.Figure at 0x1a18878cf8>"
      ]
     },
     "metadata": {},
     "output_type": "display_data"
    }
   ],
   "source": [
    "from itertools import cycle\n",
    "\n",
    "plt.figure(1)\n",
    "plt.clf()\n",
    "\n",
    "# Cycle through each cluster and graph them with a center point for the\n",
    "# exemplar and lines from the exemplar to each data point in the cluster.\n",
    "colors = cycle('bgrcmykbgrcmykbgrcmykbgrcmyk')\n",
    "for k, col in zip(range(n_clusters_), colors):\n",
    "    class_members = labels == k\n",
    "    cluster_center = X_norm[cluster_centers_indices[k]]\n",
    "    plt.plot(X_norm[class_members, 0], X_norm[class_members, 1], col + '.')\n",
    "    plt.plot(cluster_center[0],\n",
    "             cluster_center[1],\n",
    "             'o',\n",
    "             markerfacecolor=col,\n",
    "             markeredgecolor='k')\n",
    "    for x in X_norm[class_members]:\n",
    "        plt.plot([cluster_center[0], x[0]], [cluster_center[1], x[1]], col)\n",
    "\n",
    "plt.title('Estimated number of clusters: {}'.format(n_clusters_))\n",
    "plt.show()"
   ]
  },
  {
   "cell_type": "code",
   "execution_count": null,
   "metadata": {
    "collapsed": true
   },
   "outputs": [],
   "source": []
  }
 ],
 "metadata": {
  "kernelspec": {
   "display_name": "Python 3",
   "language": "python",
   "name": "python3"
  },
  "language_info": {
   "codemirror_mode": {
    "name": "ipython",
    "version": 3
   },
   "file_extension": ".py",
   "mimetype": "text/x-python",
   "name": "python",
   "nbconvert_exporter": "python",
   "pygments_lexer": "ipython3",
   "version": "3.6.3"
  }
 },
 "nbformat": 4,
 "nbformat_minor": 2
}
